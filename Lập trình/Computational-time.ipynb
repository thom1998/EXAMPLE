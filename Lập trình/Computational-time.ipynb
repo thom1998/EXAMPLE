{
 "cells": [
  {
   "cell_type": "code",
   "execution_count": 2,
   "id": "5cee3a7b",
   "metadata": {},
   "outputs": [],
   "source": [
    "import pandas as pd\n",
    "import matplotlib.pyplot as plt\n",
    "import numpy as np"
   ]
  },
  {
   "cell_type": "code",
   "execution_count": 1,
   "id": "abca1c4f",
   "metadata": {},
   "outputs": [],
   "source": [
    "import matplotlib\n",
    "matplotlib.use('pgf')"
   ]
  },
  {
   "cell_type": "code",
   "execution_count": 3,
   "id": "474bab05",
   "metadata": {},
   "outputs": [],
   "source": [
    "plt.rcParams[\"font.family\"] = \"Times New Roman\"\n",
    "plt.rcParams['text.usetex'] = True"
   ]
  },
  {
   "cell_type": "code",
   "execution_count": 4,
   "id": "0b3895b9",
   "metadata": {},
   "outputs": [],
   "source": [
    "thuy1 = pd.read_csv('E:/NCKH/NCKH/MSSVIP/Code/MSSVIP_Final code/Data/MSFP_L2/Compare Thuy Buong/Compare 2/Thuy_compare Buong_MSSFP_15_09_2021_Test_2 (x1 = 1 - t^2).csv')\n",
    "buong1 = pd.read_csv('E:/NCKH/NCKH/MSSVIP/Code/MSSVIP_Final code/Data/MSFP_L2/Compare Thuy Buong/Compare 2/Buong_15_09_2021_Test 2 (x1 = 1-t^2).csv')"
   ]
  },
  {
   "cell_type": "code",
   "execution_count": 5,
   "id": "4728f173",
   "metadata": {},
   "outputs": [
    {
     "name": "stderr",
     "output_type": "stream",
     "text": [
      "c:\\users\\trung\\appdata\\local\\programs\\python\\python37-32\\lib\\site-packages\\ipykernel_launcher.py:13: UserWarning: Matplotlib is currently using pgf, which is a non-GUI backend, so cannot show the figure.\n",
      "  del sys.path[0]\n"
     ]
    }
   ],
   "source": [
    "fig, ax = plt.subplots(figsize = (3,4))\n",
    "plt.plot(thuy1['Thời gian'], thuy1['Sai số tổng thể'], '-bo', markevery=10, markerfacecolor='none', linewidth=2.0, label = r'Thuật toán 2.3')\n",
    "plt.plot(buong1['Thời gian'], buong1['Sai số tổng thể'], '-gs', markevery=600, markerfacecolor='none', linewidth=2.0, label = r'Thuật toán (1.14)')\n",
    "plt.grid(color='gray', linestyle='--', linewidth=0.5)\n",
    "plt.yscale('log')\n",
    "#plt.ylim(5e-6,0.2)\n",
    "#plt.xlim(-0.01, 0.1)\n",
    "plt.xlabel('Thời gian tính toán (s)')\n",
    "plt.ylabel(r'$\\varepsilon (k)$')\n",
    "ax.set_title(r'$x^1(t) = 1 - t^2$')\n",
    "plt.legend()\n",
    "plt.savefig(\"E:/Study/20211/DATN/Figures_Generator/Figure 4a.pdf\", bbox_inches='tight')\n",
    "plt.show()"
   ]
  },
  {
   "cell_type": "code",
   "execution_count": 7,
   "id": "3df41868",
   "metadata": {},
   "outputs": [],
   "source": [
    "thuy2 = pd.read_csv('E:/NCKH/NCKH/MSSVIP/Code/MSSVIP_Final code/Data/MSFP_L2/Compare Thuy Buong/Compare 2/Thuy_compare Buong_MSSFP_15_09_2021_Test_3 (x1 = cos(20t)).csv')\n",
    "buong2 = pd.read_csv('E:/NCKH/NCKH/MSSVIP/Code/MSSVIP_Final code/Data/MSFP_L2/Compare Thuy Buong/Compare 2/Buong_15_09_2021_Test 3 (x1 = cos(20t)).csv')"
   ]
  },
  {
   "cell_type": "code",
   "execution_count": 8,
   "id": "3042b0d2",
   "metadata": {},
   "outputs": [
    {
     "name": "stderr",
     "output_type": "stream",
     "text": [
      "c:\\users\\trung\\appdata\\local\\programs\\python\\python37-32\\lib\\site-packages\\ipykernel_launcher.py:13: UserWarning: Matplotlib is currently using pgf, which is a non-GUI backend, so cannot show the figure.\n",
      "  del sys.path[0]\n"
     ]
    }
   ],
   "source": [
    "fig, ax = plt.subplots(figsize = (3,4))\n",
    "plt.plot(thuy2['Thời gian'], thuy2['Sai số tổng thể'], '-bo', markevery=10, markerfacecolor='none', linewidth=2.0, label = 'Thuật toán 2.3')\n",
    "plt.plot(buong2['Thời gian'], buong2['Sai số tổng thể'], '-gs', markevery=180, markerfacecolor='none', linewidth=2.0, label = 'Thuật toán (1.14)')\n",
    "plt.grid(color='gray', linestyle='--', linewidth=0.5)\n",
    "plt.yscale('log')\n",
    "#plt.ylim(5e-6,0.2)\n",
    "#plt.xlim(-0.01, 0.1)\n",
    "plt.xlabel('Thời gian tính toán (s)')\n",
    "plt.ylabel(r'$\\varepsilon (k)$')\n",
    "ax.set_title(r'$x^1(t) = \\cos(20t)$')\n",
    "plt.legend()\n",
    "plt.savefig(\"E:/Study/20211/DATN/Figures_Generator/Figure 4b.pdf\", bbox_inches='tight')\n",
    "plt.show()"
   ]
  },
  {
   "cell_type": "code",
   "execution_count": 9,
   "id": "450cfd0a",
   "metadata": {},
   "outputs": [],
   "source": [
    "thuy3 = pd.read_csv('E:/NCKH/NCKH/MSSVIP/Code/MSSVIP_Final code/Data/MSFP_L2/Compare Thuy Buong/Compare 2/Thuy_compare Buong_MSSFP_15_09_2021_Test_4 (x1 = ln(1+2t)).csv')\n",
    "buong3 = pd.read_csv('E:/NCKH/NCKH/MSSVIP/Code/MSSVIP_Final code/Data/MSFP_L2/Compare Thuy Buong/Compare 2/Buong_15_09_2021_Test 4 (x1 = ln(1+2t)).csv')"
   ]
  },
  {
   "cell_type": "code",
   "execution_count": 10,
   "id": "c7ed0aac",
   "metadata": {},
   "outputs": [
    {
     "name": "stderr",
     "output_type": "stream",
     "text": [
      "c:\\users\\trung\\appdata\\local\\programs\\python\\python37-32\\lib\\site-packages\\ipykernel_launcher.py:13: UserWarning: Matplotlib is currently using pgf, which is a non-GUI backend, so cannot show the figure.\n",
      "  del sys.path[0]\n"
     ]
    }
   ],
   "source": [
    "fig, ax = plt.subplots(figsize = (3,4))\n",
    "plt.plot(thuy3['Thời gian'], thuy3['Sai số tổng thể'], '-bo', markevery=10, markerfacecolor='none', linewidth=2.0, label = 'Thuật toán 2.3')\n",
    "plt.plot(buong3['Thời gian'], buong3['Sai số tổng thể'], '-gs', markevery=400, markerfacecolor='none', linewidth=2.0, label = 'Thuật toán (1.14)')\n",
    "plt.grid(color='gray', linestyle='--', linewidth=0.5)\n",
    "plt.yscale('log')\n",
    "#plt.ylim(5e-6,0.2)\n",
    "#plt.xlim(-0.01, 0.1)\n",
    "plt.xlabel('Thời gian tính toán (s)')\n",
    "plt.ylabel(r'$\\varepsilon (k)$')\n",
    "ax.set_title(r'$x^1(t) = \\ln(1+2t)$')\n",
    "plt.legend()\n",
    "plt.savefig(\"E:/Study/20211/DATN/Figures_Generator/Figure 4c.pdf\", bbox_inches='tight')\n",
    "plt.show()"
   ]
  },
  {
   "cell_type": "code",
   "execution_count": null,
   "id": "0241e3bc",
   "metadata": {},
   "outputs": [],
   "source": []
  }
 ],
 "metadata": {
  "kernelspec": {
   "display_name": "Python 3 (ipykernel)",
   "language": "python",
   "name": "python3"
  },
  "language_info": {
   "codemirror_mode": {
    "name": "ipython",
    "version": 3
   },
   "file_extension": ".py",
   "mimetype": "text/x-python",
   "name": "python",
   "nbconvert_exporter": "python",
   "pygments_lexer": "ipython3",
   "version": "3.7.4"
  }
 },
 "nbformat": 4,
 "nbformat_minor": 5
}
